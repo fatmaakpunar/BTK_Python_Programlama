{
  "nbformat": 4,
  "nbformat_minor": 0,
  "metadata": {
    "colab": {
      "provenance": []
    },
    "kernelspec": {
      "name": "python3",
      "display_name": "Python 3"
    },
    "language_info": {
      "name": "python"
    }
  },
  "cells": [
    {
      "cell_type": "markdown",
      "source": [
        "https://www.crummy.com/software/BeautifulSoup/bs4/doc/\n",
        "\n",
        "Beautiful Soup, HTML ve XML dosyalarından veri çekmeye yönelik bir Python kütüphanesidir. Ayrıştırma ağacında gezinmenin, aramanın ve değiştirmenin deyimsel yollarını sağlamak için favori ayrıştırıcınızla birlikte çalışır. Genellikle programcıların saatlerce veya günlerce çalışmalarından tasarruf sağlar."
      ],
      "metadata": {
        "id": "Eh46tx4Toy9b"
      }
    },
    {
      "cell_type": "code",
      "source": [
        "html_doc = \"\"\"\n",
        "<!DOCTYPE html>\n",
        "<html lang=\"en\">\n",
        "<head>\n",
        "<meta charset=\"UTF-8\">\n",
        "<meta name=\"viewport\" content=\"width=device-width, initial-scale=1.0\">\n",
        "    <title>İlk web sayfam değil :| </title>\n",
        "</head>\n",
        "<body>\n",
        "<h1 id = \"header\">\n",
        "        FATMA AKPUNAR\n",
        "      </h1>\n",
        "    <div class=\"grup1\">\n",
        "        <h2>\n",
        "        Programlama\n",
        "        </h2>\n",
        "\n",
        "        <ul>\n",
        "            <li>MENÜ 1</li>\n",
        "            <li>MENÜ 2</li>\n",
        "            <li>MENÜ 3</li>\n",
        "        </ul>\n",
        "\n",
        "   </div>\n",
        "   <div class=\"grup2\">\n",
        "    <h2>\n",
        "        Modüller\n",
        "    </h2>\n",
        "    <ul>\n",
        "        <li>MENÜ 1</li>\n",
        "        <li>MENÜ 2</li>\n",
        "        <li>MENÜ 3</li>\n",
        "    </ul>\n",
        "   </div>\n",
        "   <a href=\"http://example.com/elsie\" class=\"sister\" id=\"link1\">Elsie</a>,\n",
        "   <a href=\"http://example.com/lacie\" class=\"sister\" id=\"link2\">Lacie</a> and\n",
        "   <a href=\"http://example.com/tillie\" class=\"sister\" id=\"link3\">Tillie</a>;\n",
        "\n",
        "</body>\n",
        "</html>\n",
        "\"\"\""
      ],
      "metadata": {
        "id": "2SdoC0bykW_4"
      },
      "execution_count": 30,
      "outputs": []
    },
    {
      "cell_type": "code",
      "source": [
        "from bs4 import BeautifulSoup\n",
        "\n",
        "soup = BeautifulSoup(html_doc, 'html.parser')\n",
        "result = soup.prettify()\n",
        "result = soup.title\n",
        "result = soup.head\n",
        "result = soup.body\n",
        "\n",
        "print(result)"
      ],
      "metadata": {
        "colab": {
          "base_uri": "https://localhost:8080/"
        },
        "id": "rvqE86_cj6WL",
        "outputId": "9d4cbd1b-06fd-495c-932b-565ee7d1e52e"
      },
      "execution_count": 31,
      "outputs": [
        {
          "output_type": "stream",
          "name": "stdout",
          "text": [
            "<body>\n",
            "<h1 id=\"header\">\n",
            "        FATMA AKPUNAR\n",
            "      </h1>\n",
            "<div class=\"grup1\">\n",
            "<h2>\n",
            "        Programlama\n",
            "        </h2>\n",
            "<ul>\n",
            "<li>MENÜ 1</li>\n",
            "<li>MENÜ 2</li>\n",
            "<li>MENÜ 3</li>\n",
            "</ul>\n",
            "</div>\n",
            "<div class=\"grup2\">\n",
            "<h2>\n",
            "        Modüller\n",
            "    </h2>\n",
            "<ul>\n",
            "<li>MENÜ 1</li>\n",
            "<li>MENÜ 2</li>\n",
            "<li>MENÜ 3</li>\n",
            "</ul>\n",
            "</div>\n",
            "<a class=\"sister\" href=\"http://example.com/elsie\" id=\"link1\">Elsie</a>,\n",
            "   <a class=\"sister\" href=\"http://example.com/lacie\" id=\"link2\">Lacie</a> and\n",
            "   <a class=\"sister\" href=\"http://example.com/tillie\" id=\"link3\">Tillie</a>;\n",
            "    \n",
            "</body>\n"
          ]
        }
      ]
    },
    {
      "cell_type": "code",
      "source": [
        "result = soup.title.name\n",
        "result = soup.title.string\n",
        "print(result)"
      ],
      "metadata": {
        "colab": {
          "base_uri": "https://localhost:8080/"
        },
        "id": "Gy-XMMlomxZB",
        "outputId": "c6e24b42-4c1e-4065-9cf7-bff87ab2994c"
      },
      "execution_count": 32,
      "outputs": [
        {
          "output_type": "stream",
          "name": "stdout",
          "text": [
            "İlk web sayfam değil :| \n"
          ]
        }
      ]
    },
    {
      "cell_type": "code",
      "source": [
        "result = soup.h1\n",
        "result = soup.h2\n",
        "print(result)"
      ],
      "metadata": {
        "colab": {
          "base_uri": "https://localhost:8080/"
        },
        "id": "1K0_MnHom3dz",
        "outputId": "d6253361-7f7b-41d0-b21c-012ab0559845"
      },
      "execution_count": 33,
      "outputs": [
        {
          "output_type": "stream",
          "name": "stdout",
          "text": [
            "<h2>\n",
            "        Programlama\n",
            "        </h2>\n"
          ]
        }
      ]
    },
    {
      "cell_type": "code",
      "source": [
        "result = soup.find_all('h2')\n",
        "result = soup.find_all('h2')[0]\n",
        "result = soup.find_all('h2')[1]\n",
        "print(result)"
      ],
      "metadata": {
        "colab": {
          "base_uri": "https://localhost:8080/"
        },
        "id": "Jc4yNNZ4nAQR",
        "outputId": "ba8a8236-fddc-4aa2-aac5-541767e528be"
      },
      "execution_count": 34,
      "outputs": [
        {
          "output_type": "stream",
          "name": "stdout",
          "text": [
            "<h2>\n",
            "        Modüller\n",
            "    </h2>\n"
          ]
        }
      ]
    },
    {
      "cell_type": "code",
      "source": [
        "result = soup.div\n",
        "result = soup.find_all('div')[1]\n",
        "result = soup.find_all('div')[1].ul.find_all('li') #li'lerin hepsini dizi şeklinde getirir\n",
        "result = soup.div.findChildren #alt elemanların hepsini getirir\n",
        "result = soup.div.findNextSibling() # grup 2 gelir\n",
        "print(result)"
      ],
      "metadata": {
        "colab": {
          "base_uri": "https://localhost:8080/"
        },
        "id": "NcN_JjMmnXiy",
        "outputId": "01c4077d-97de-493a-94e8-8e5210eeb739"
      },
      "execution_count": 35,
      "outputs": [
        {
          "output_type": "stream",
          "name": "stdout",
          "text": [
            "<div class=\"grup2\">\n",
            "<h2>\n",
            "        Modüller\n",
            "    </h2>\n",
            "<ul>\n",
            "<li>MENÜ 1</li>\n",
            "<li>MENÜ 2</li>\n",
            "<li>MENÜ 3</li>\n",
            "</ul>\n",
            "</div>\n"
          ]
        }
      ]
    },
    {
      "cell_type": "code",
      "source": [
        "result = soup.find_all('a')\n",
        "for link in result:\n",
        "  print(link.get)\n",
        "# print(result)"
      ],
      "metadata": {
        "colab": {
          "base_uri": "https://localhost:8080/"
        },
        "id": "Shs5UCm1nt7Q",
        "outputId": "e9c8c989-0978-418f-aa98-de6f78ff6449"
      },
      "execution_count": 39,
      "outputs": [
        {
          "output_type": "stream",
          "name": "stdout",
          "text": [
            "<bound method Tag.get of <a class=\"sister\" href=\"http://example.com/elsie\" id=\"link1\">Elsie</a>>\n",
            "<bound method Tag.get of <a class=\"sister\" href=\"http://example.com/lacie\" id=\"link2\">Lacie</a>>\n",
            "<bound method Tag.get of <a class=\"sister\" href=\"http://example.com/tillie\" id=\"link3\">Tillie</a>>\n"
          ]
        }
      ]
    }
  ]
}